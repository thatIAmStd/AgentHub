{
 "cells": [
  {
   "cell_type": "markdown",
   "id": "aeb6f27e-ea77-4176-b402-b71bbf156bd7",
   "metadata": {},
   "source": [
    "# 1.简单chat_bot"
   ]
  },
  {
   "cell_type": "markdown",
   "id": "631dc398-c0af-4a00-bb5a-4ebe3fed4068",
   "metadata": {
    "ExecuteTime": {
     "end_time": "2024-12-04T03:00:10.551621Z",
     "start_time": "2024-12-04T03:00:10.038396Z"
    }
   },
   "source": "## 1.1 定义状态图StateGraph"
  },
  {
   "cell_type": "code",
   "id": "9474a778-56ec-4157-8838-b03f2ff053be",
   "metadata": {
    "ExecuteTime": {
     "end_time": "2024-12-04T11:09:29.161299Z",
     "start_time": "2024-12-04T11:09:29.146287Z"
    }
   },
   "source": [
    "from typing import Annotated\n",
    "from typing_extensions import TypedDict\n",
    "from langgraph.graph import StateGraph, START, END\n",
    "from langgraph.graph.message import add_messages\n",
    "\n",
    "# 定义状态类型，继承自 TypedDict，并使用 add_messages 函数将消息追加到现有列表\n",
    "class State(TypedDict):\n",
    "    messages: Annotated[list, add_messages]\n",
    "\n",
    "# 创建一个状态图对象，传入状态定义\n",
    "graph_builder = StateGraph(State)"
   ],
   "outputs": [],
   "execution_count": 2
  },
  {
   "cell_type": "code",
   "id": "23950b79-483d-481d-86f1-78b53904161c",
   "metadata": {
    "ExecuteTime": {
     "end_time": "2024-12-04T11:09:31.354913Z",
     "start_time": "2024-12-04T11:09:31.344908Z"
    }
   },
   "source": [
    "print(graph_builder)"
   ],
   "outputs": [
    {
     "name": "stdout",
     "output_type": "stream",
     "text": [
      "<langgraph.graph.state.StateGraph object at 0x000001E8413DB520>\n"
     ]
    }
   ],
   "execution_count": 3
  },
  {
   "cell_type": "markdown",
   "id": "c5524295-0c16-45cb-a84f-3e6bf21412f5",
   "metadata": {},
   "source": [
    "## 1.2 添加聊天节点"
   ]
  },
  {
   "cell_type": "code",
   "id": "ea92a1b6-8e56-4dcc-a64e-d9b10f3b669e",
   "metadata": {
    "ExecuteTime": {
     "end_time": "2024-12-04T11:09:34.728707Z",
     "start_time": "2024-12-04T11:09:33.614089Z"
    }
   },
   "source": [
    "from langchain_openai import ChatOpenAI\n",
    "\n",
    "# 初始化一个 GPT-4o-mini 模型\n",
    "chat_model = ChatOpenAI(model=\"gpt-4o-mini\")\n",
    "\n",
    "# 定义聊天机器人的节点函数，接收当前状态并返回更新的消息列表\n",
    "def chatbot(state: State):\n",
    "    return {\"messages\": [chat_model.invoke(state[\"messages\"])]}\n",
    "\n",
    "# 第一个参数是唯一的节点名称，第二个参数是每次节点被调用时的函数或对象\n",
    "graph_builder.add_node(\"chatbot\", chatbot)"
   ],
   "outputs": [],
   "execution_count": 4
  },
  {
   "cell_type": "markdown",
   "id": "d8caab70-c061-4f5f-9f5f-4f5e62c1aff0",
   "metadata": {},
   "source": [
    "## 1.3 定义流程图"
   ]
  },
  {
   "cell_type": "code",
   "id": "0c828dbb-d87e-490e-ae4f-d67c325f78f5",
   "metadata": {
    "ExecuteTime": {
     "end_time": "2024-12-04T11:09:36.785951Z",
     "start_time": "2024-12-04T11:09:36.772944Z"
    }
   },
   "source": [
    "graph_builder.add_edge(START, \"chatbot\")\n",
    "graph_builder.add_edge(\"chatbot\", END)"
   ],
   "outputs": [],
   "execution_count": 5
  },
  {
   "cell_type": "markdown",
   "id": "33f45a35-ed97-42ae-8f1a-3af1bf0c308c",
   "metadata": {},
   "source": [
    "## 1.4 编译绘图"
   ]
  },
  {
   "cell_type": "code",
   "id": "4e8f676a-8fcb-4961-8cf5-a91ee9114bce",
   "metadata": {
    "ExecuteTime": {
     "end_time": "2024-12-04T11:09:39.547175Z",
     "start_time": "2024-12-04T11:09:38.598637Z"
    }
   },
   "source": [
    "# 编译状态图并生成可执行图对象\n",
    "graph = graph_builder.compile()\n",
    "\n",
    "# 你可以使用 get_graph 方法来可视化图，并结合 draw 方法（如 draw_ascii 或 draw_png）\n",
    "from IPython.display import Image, display\n",
    "\n",
    "try:\n",
    "    display(Image(graph.get_graph().draw_mermaid_png()))\n",
    "except Exception:\n",
    "    pass"
   ],
   "outputs": [
    {
     "data": {
      "image/jpeg": "[encoded data removed]",
      "text/plain": [
       "<IPython.core.display.Image object>"
      ]
     },
     "metadata": {},
     "output_type": "display_data"
    }
   ],
   "execution_count": 6
  },
  {
   "cell_type": "markdown",
   "id": "c5d182e5-739d-4e6f-90af-5754ce7e13f5",
   "metadata": {},
   "source": [
    "## 编译调用"
   ]
  },
  {
   "cell_type": "code",
   "id": "634e1bc0-a977-421d-8b95-331af05fb71c",
   "metadata": {
    "jupyter": {
     "is_executing": true
    },
    "ExecuteTime": {
     "start_time": "2024-12-04T11:13:20.178139Z"
    }
   },
   "source": [
    "# 开始一个简单的聊天循环\n",
    "while True:\n",
    "    # 获取用户输入\n",
    "    user_input = input(\"User: \")\n",
    "    \n",
    "    # 可以随时通过输入 \"quit\"、\"exit\" 或 \"q\" 退出聊天循环\n",
    "    if user_input.lower() in [\"quit\", \"exit\", \"q\"]:\n",
    "        print(\"Goodbye!\")  # 打印告别信息\n",
    "        break  # 结束循环，退出聊天\n",
    "\n",
    "    # 将每次用户输入的内容传递给 graph.stream，用于聊天机器人状态处理\n",
    "    inpt_str = (\"user\", user_input)\n",
    "    msg = {\"messages\": inpt_str}\n",
    "    print(f\"inpt_str:{inpt_str},type:type{type(inpt_str)}\")\n",
    "    print(f\"msg:{msg},type:{type(msg)}\")\n",
    "    # \"messages\": (\"user\", user_input) 表示传递的消息是用户输入的内容\n",
    "    for event in graph.stream(msg):\n",
    "        \n",
    "        # 遍历每个事件的值\n",
    "        for value in event.values():\n",
    "            # 打印输出 chatbot 生成的最新消息\n",
    "            print(\"Assistant:\", value[\"messages\"][-1].content)"
   ],
   "outputs": [
    {
     "name": "stdout",
     "output_type": "stream",
     "text": [
      "inpt_str:('user', 'Nihao'),type:type<class 'tuple'>\n",
      "msg:{'messages': ('user', 'Nihao')},type:<class 'dict'>\n"
     ]
    }
   ],
   "execution_count": null
  },
  {
   "cell_type": "code",
   "execution_count": null,
   "id": "fb058c63-b318-44d8-b418-75a3140ef38e",
   "metadata": {},
   "outputs": [],
   "source": []
  }
 ],
 "metadata": {
  "kernelspec": {
   "display_name": "Python 3 (ipykernel)",
   "language": "python",
   "name": "python3"
  },
  "language_info": {
   "codemirror_mode": {
    "name": "ipython",
    "version": 3
   },
   "file_extension": ".py",
   "mimetype": "text/x-python",
   "name": "python",
   "nbconvert_exporter": "python",
   "pygments_lexer": "ipython3",
   "version": "3.10.15"
  }
 },
 "nbformat": 4,
 "nbformat_minor": 5
}
