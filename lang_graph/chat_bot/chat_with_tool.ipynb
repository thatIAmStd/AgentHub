{
 "cells": [
  {
   "metadata": {},
   "cell_type": "markdown",
   "source": "### 1.定义工具",
   "id": "e0b459383ce83241"
  },
  {
   "metadata": {
    "ExecuteTime": {
     "end_time": "2024-12-05T03:38:48.099317Z",
     "start_time": "2024-12-05T03:38:48.086066Z"
    }
   },
   "cell_type": "code",
   "source": [
    "from langchain_community.tools.tavily_search import TavilySearchResults\n",
    "\n",
    "# 定义 Tavily 搜索工具，最大搜索结果数设置为 2\n",
    "tool = TavilySearchResults(max_results=2)\n",
    "tools = [tool]\n",
    "\n",
    "# 测试工具调用\n",
    "# tool.invoke(\"What's a 'node' in LangGraph?\")"
   ],
   "id": "fd2b2d630d756eb9",
   "outputs": [],
   "execution_count": 4
  },
  {
   "metadata": {},
   "cell_type": "markdown",
   "source": "### 2.绑定工具",
   "id": "d6c8ed1775ef5652"
  },
  {
   "metadata": {
    "ExecuteTime": {
     "end_time": "2024-12-05T03:39:08.097829Z",
     "start_time": "2024-12-05T03:39:06.806638Z"
    }
   },
   "cell_type": "code",
   "source": [
    "from typing import Annotated\n",
    "from langchain_openai import ChatOpenAI\n",
    "from typing_extensions import TypedDict\n",
    "from langgraph.graph import StateGraph, START\n",
    "from langgraph.graph.message import add_messages\n",
    "\n",
    "# 定义状态\n",
    "class State(TypedDict):\n",
    "    messages: Annotated[list, add_messages]\n",
    "\n",
    "graph_builder = StateGraph(State)\n",
    "\n",
    "# 初始化 LLM 并绑定搜索工具\n",
    "chat_model = ChatOpenAI(model=\"gpt-4o-mini\")\n",
    "llm_with_tools = chat_model.bind_tools(tools)\n",
    "\n",
    "# 更新聊天机器人节点函数，支持工具调用\n",
    "def chatbot(state: State):\n",
    "    return {\"messages\": [llm_with_tools.invoke(state[\"messages\"])]}\n",
    "\n",
    "# 将更新后的节点添加到状态图中\n",
    "graph_builder.add_node(\"chatbot\", chatbot)"
   ],
   "id": "8250d59931d31be9",
   "outputs": [],
   "execution_count": 5
  },
  {
   "metadata": {},
   "cell_type": "markdown",
   "source": [
    "### 3.创建一个工具运行函数\n",
    "一个类，包含所有工具。根据大模型返回结果，统一处理工具调用。我们通过向图中添加一个新节点来实现这一点。\n"
   ],
   "id": "a4476d6f06c869b4"
  },
  {
   "metadata": {
    "ExecuteTime": {
     "end_time": "2024-12-05T03:39:10.691723Z",
     "start_time": "2024-12-05T03:39:10.674721Z"
    }
   },
   "cell_type": "code",
   "source": [
    "import json\n",
    "from langchain_core.messages import ToolMessage\n",
    "\n",
    "# 定义 BasicToolNode，用于执行工具请求\n",
    "class BasicToolNode:\n",
    "    \"\"\"一个在最后一条 AIMessage 中执行工具请求的节点。\n",
    "    \n",
    "    该节点会检查最后一条 AI 消息中的工具调用请求，并依次执行这些工具调用。\n",
    "    \"\"\"\n",
    "\n",
    "    def __init__(self, tools: list) -> None:\n",
    "        # tools 是一个包含所有可用工具的列表，我们将其转化为字典，\n",
    "        # 通过工具名称（tool.name）来访问具体的工具\n",
    "        self.tools_by_name = {tool.name: tool for tool in tools}\n",
    "\n",
    "    def __call__(self, inputs: dict):\n",
    "        \"\"\"执行工具调用\n",
    "        \n",
    "        参数:\n",
    "        inputs: 包含 \"messages\" 键的字典，\"messages\" 是对话消息的列表，\n",
    "                其中最后一条消息可能包含工具调用的请求。\n",
    "        \n",
    "        返回:\n",
    "        包含工具调用结果的消息列表\n",
    "        \"\"\"\n",
    "        # 获取消息列表中的最后一条消息，判断是否包含工具调用请求\n",
    "        if messages := inputs.get(\"messages\", []):\n",
    "            message = messages[-1]\n",
    "        else:\n",
    "            raise ValueError(\"输入中未找到消息\")\n",
    "\n",
    "        # 用于保存工具调用的结果\n",
    "        outputs = []\n",
    "\n",
    "        # 遍历工具调用请求，执行工具并将结果返回\n",
    "        for tool_call in message.tool_calls:\n",
    "            # 根据工具名称找到相应的工具，并调用工具的 invoke 方法执行工具\n",
    "            tool_result = self.tools_by_name[tool_call[\"name\"]].invoke(\n",
    "                tool_call[\"args\"]\n",
    "            )\n",
    "            # 将工具调用结果作为 ToolMessage 保存下来\n",
    "            outputs.append(\n",
    "                ToolMessage(\n",
    "                    content=json.dumps(tool_result),  # 工具调用的结果以 JSON 格式保存\n",
    "                    name=tool_call[\"name\"],  # 工具的名称\n",
    "                    tool_call_id=tool_call[\"id\"],  # 工具调用的唯一标识符\n",
    "                )\n",
    "            )\n",
    "        # 返回包含工具调用结果的消息\n",
    "        return {\"messages\": outputs}"
   ],
   "id": "74db159a7badfb69",
   "outputs": [],
   "execution_count": 6
  },
  {
   "metadata": {
    "ExecuteTime": {
     "end_time": "2024-12-05T03:39:14.680546Z",
     "start_time": "2024-12-05T03:39:14.666546Z"
    }
   },
   "cell_type": "code",
   "source": [
    "# 将 BasicToolNode 添加到状态图中\n",
    "tool_node = BasicToolNode(tools=[tool])\n",
    "graph_builder.add_node(\"tools\", tool_node)"
   ],
   "id": "af77f02b21e234d5",
   "outputs": [],
   "execution_count": 7
  },
  {
   "metadata": {},
   "cell_type": "markdown",
   "source": "### 4. 添加条件边",
   "id": "46e92fd21ad2db"
  },
  {
   "metadata": {
    "ExecuteTime": {
     "end_time": "2024-12-05T03:39:18.195707Z",
     "start_time": "2024-12-05T03:39:18.182704Z"
    }
   },
   "cell_type": "code",
   "source": [
    "from typing import Literal\n",
    "\n",
    "# 定义路由函数，检查工具调用\n",
    "def route_tools(\n",
    "    state: State,\n",
    ") -> Literal[\"tools\", \"__end__\"]:\n",
    "    \"\"\"\n",
    "    使用条件边来检查最后一条消息中是否有工具调用。\n",
    "    \n",
    "    参数:\n",
    "    state: 状态字典或消息列表，用于存储当前对话的状态和消息。\n",
    "    \n",
    "    返回:\n",
    "    如果最后一条消息包含工具调用，返回 \"tools\" 节点，表示需要执行工具调用；\n",
    "    否则返回 \"__end__\"，表示直接结束流程。\n",
    "    \"\"\"\n",
    "    # 检查状态是否是列表类型（即消息列表），取最后一条 AI 消息\n",
    "    if isinstance(state, list):\n",
    "        ai_message = state[-1]\n",
    "    # 否则从状态字典中获取 \"messages\" 键，取最后一条消息\n",
    "    elif messages := state.get(\"messages\", []):\n",
    "        ai_message = messages[-1]\n",
    "    # 如果没有找到消息，则抛出异常\n",
    "    else:\n",
    "        raise ValueError(f\"输入状态中未找到消息: {state}\")\n",
    "\n",
    "    # 检查最后一条消息是否有工具调用请求\n",
    "    if hasattr(ai_message, \"tool_calls\") and len(ai_message.tool_calls) > 0:\n",
    "        return \"tools\"  # 如果有工具调用请求，返回 \"tools\" 节点\n",
    "    return \"__end__\"  # 否则返回 \"__end__\"，流程结束\n",
    "\n",
    "# 添加条件边，判断是否需要调用工具\n",
    "graph_builder.add_conditional_edges(\n",
    "    \"chatbot\",  # 从聊天机器人节点开始\n",
    "    route_tools,  # 路由函数，决定下一个节点\n",
    "    {\n",
    "        \"tools\": \"tools\", \n",
    "        \"__end__\": \"__end__\"\n",
    "    },  # 定义条件的输出，工具调用走 \"tools\"，否则走 \"__end__\"\n",
    ")\n",
    "\n",
    "# 当工具调用完成后，返回到聊天机器人节点以继续对话\n",
    "graph_builder.add_edge(\"tools\", \"chatbot\")\n",
    "\n",
    "# 指定从 START 节点开始，进入聊天机器人节点\n",
    "graph_builder.add_edge(START, \"chatbot\")"
   ],
   "id": "d1aab3fc58ec4f74",
   "outputs": [],
   "execution_count": 8
  },
  {
   "metadata": {},
   "cell_type": "markdown",
   "source": "### 5. 编译可视化",
   "id": "3e6f93b78ea0fb1f"
  },
  {
   "metadata": {
    "ExecuteTime": {
     "end_time": "2024-12-05T03:39:21.718517Z",
     "start_time": "2024-12-05T03:39:20.422181Z"
    }
   },
   "cell_type": "code",
   "source": [
    "# 编译状态图，生成可执行的流程图\n",
    "graph = graph_builder.compile()\n",
    "from IPython.display import Image, display\n",
    "\n",
    "try:\n",
    "    display(Image(graph.get_graph().draw_mermaid_png()))\n",
    "except Exception:\n",
    "    pass\n"
   ],
   "id": "a05615b0b5d40b60",
   "outputs": [
    {
     "data": {
      "image/jpeg": "[encoded data removed]",
      "text/plain": [
       "<IPython.core.display.Image object>"
      ]
     },
     "metadata": {},
     "output_type": "display_data"
    }
   ],
   "execution_count": 9
  },
  {
   "metadata": {},
   "cell_type": "markdown",
   "source": "### 6.调用执行",
   "id": "160390f70927e5b2"
  },
  {
   "metadata": {
    "ExecuteTime": {
     "end_time": "2024-12-05T03:40:10.618612Z",
     "start_time": "2024-12-05T03:39:41.382472Z"
    }
   },
   "cell_type": "code",
   "source": [
    "from langchain_core.messages import BaseMessage\n",
    "\n",
    "# 进入一个无限循环，用于模拟持续的对话\n",
    "while True:\n",
    "    # 获取用户输入\n",
    "    user_input = input(\"User: \")\n",
    "    \n",
    "    # 如果用户输入 \"quit\"、\"exit\" 或 \"q\"，则退出循环，结束对话\n",
    "    if user_input.lower() in [\"quit\", \"exit\", \"q\"]:\n",
    "        print(\"Goodbye!\")  # 打印告别语\n",
    "        break  # 退出循环\n",
    "\n",
    "    # 使用 graph.stream 处理用户输入，并生成机器人的回复\n",
    "    # \"messages\" 列表中包含用户的输入，传递给对话系统\n",
    "    for event in graph.stream({\"messages\": [(\"user\", user_input)]}):\n",
    "        \n",
    "        # 遍历 event 的所有值，检查是否是 BaseMessage 类型的消息\n",
    "        for value in event.values():\n",
    "            if isinstance(value[\"messages\"][-1], BaseMessage):\n",
    "                # 如果消息是 BaseMessage 类型，则打印机器人的回复\n",
    "                print(\"Assistant:\", value[\"messages\"][-1].content)\n"
   ],
   "id": "a84435d63f24aa69",
   "outputs": [
    {
     "name": "stdout",
     "output_type": "stream",
     "text": [
      "Assistant: \n",
      "Assistant: [{\"url\": \"https://zhuanlan.zhihu.com/p/620529542\", \"content\": \"\\u5982\\u4f55\\u4f7f\\u7528 LangChain\\uff1f\\n\\u8981\\u4f7f\\u7528 LangChain\\uff0c\\u5f00\\u53d1\\u4eba\\u5458\\u9996\\u5148\\u8981\\u5bfc\\u5165\\u5fc5\\u8981\\u7684\\u7ec4\\u4ef6\\u548c\\u5de5\\u5177\\uff0c\\u4f8b\\u5982 LLMs, chat models, agents, chains, \\u5185\\u5b58\\u529f\\u80fd\\u3002\\u8fd9\\u4e9b\\u7ec4\\u4ef6\\u7ec4\\u5408\\u8d77\\u6765\\u521b\\u5efa\\u4e00\\u4e2a\\u53ef\\u4ee5\\u7406\\u89e3\\u3001\\u5904\\u7406\\u548c\\u54cd\\u5e94\\u7528\\u6237\\u8f93\\u5165\\u7684\\u5e94\\u7528\\u7a0b\\u5e8f\\u3002\\nLangChain \\u4e3a\\u7279\\u5b9a\\u7528\\u4f8b\\u63d0\\u4f9b\\u4e86\\u591a\\u79cd\\u7ec4\\u4ef6\\uff0c\\u4f8b\\u5982\\u4e2a\\u4eba\\u52a9\\u7406\\u3001\\u6587\\u6863\\u95ee\\u7b54\\u3001\\u804a\\u5929\\u673a\\u5668\\u4eba\\u3001\\u67e5\\u8be2\\u8868\\u683c\\u6570\\u636e\\u3001\\u4e0e API \\u4ea4\\u4e92\\u3001\\u63d0\\u53d6\\u3001\\u8bc4\\u4f30\\u548c\\u6c47\\u603b\\u3002\\nWhat\\u2019s a LangChain model?\\nLangChain model \\u662f\\u4e00\\u79cd\\u62bd\\u8c61\\uff0c\\u8868\\u793a\\u6846\\u67b6\\u4e2d\\u4f7f\\u7528\\u7684\\u4e0d\\u540c\\u7c7b\\u578b\\u7684\\u6a21\\u578b\\u3002LangChain \\u4e2d\\u7684\\u6a21\\u578b\\u4e3b\\u8981\\u5206\\u4e3a\\u4e09\\u7c7b\\uff1a\\n\\u5f00\\u53d1\\u4eba\\u5458\\u53ef\\u4ee5\\u4e3a\\u4ed6\\u4eec\\u7684\\u7528\\u4f8b\\u9009\\u62e9\\u5408\\u9002\\u7684 LangChain \\u6a21\\u578b\\uff0c\\u5e76\\u5229\\u7528\\u63d0\\u4f9b\\u7684\\u7ec4\\u4ef6\\u6765\\u6784\\u5efa\\u4ed6\\u4eec\\u7684\\u5e94\\u7528\\u7a0b\\u5e8f\\u3002\\nLangChain \\u7684\\u4e3b\\u8981\\u7279\\u70b9\\nLangChain \\u65e8\\u5728\\u4e3a\\u516d\\u4e2a\\u4e3b\\u8981\\u9886\\u57df\\u7684\\u5f00\\u53d1\\u4eba\\u5458\\u63d0\\u4f9b\\u652f\\u6301\\uff1a\\n\\u4f7f\\u7528\\u793a\\u4f8b\\nLangChain \\u652f\\u6301\\u5927\\u91cf\\u7528\\u4f8b\\uff0c\\u4f8b\\u5982\\uff1a\\n\\u5feb\\u901f\\u5165\\u95e8\\u6307\\u5357\\uff1a\\u4f7f\\u7528 LangChain \\u6784\\u5efa\\u7aef\\u5230\\u7aef\\u8bed\\u8a00\\u6a21\\u578b\\u5e94\\u7528\\u7a0b\\u5e8f\\n\\u63a5\\u4e0b\\u6765\\uff0c\\u8ba9\\u6211\\u4eec\\u5728\\u7ec8\\u7aef\\u4e2d\\u8bbe\\u7f6e\\u73af\\u5883\\u53d8\\u91cf\\uff1a\\n\\u6216\\u8005\\uff0c\\u5982\\u679c\\u60a8\\u66f4\\u559c\\u6b22\\u5728 Jupyter notebook \\u6216 Python \\u811a\\u672c\\u4e2d\\u5de5\\u4f5c\\uff0c\\u60a8\\u53ef\\u4ee5\\u50cf\\u8fd9\\u6837\\u8bbe\\u7f6e\\u73af\\u5883\\u53d8\\u91cf:\\n\\u60a8\\u53ef\\u4ee5\\u901a\\u8fc7\\u4f20\\u9012\\u4e00\\u6761\\u6d88\\u606f\\u6765\\u5b8c\\u6210:\\n\\u6216\\u8005\\u4f20\\u9012\\u591a\\u6761\\u6d88\\u606f\\u7ed9 OpenAI \\u7684 gpt-3.5-turbo \\u548c gpt-4 models\\uff1a\\n\\u60a8\\u8fd8\\u53ef\\u4ee5\\u4f7f\\u7528 generate \\u4e3a\\u591a\\u7ec4\\u6d88\\u606f\\u751f\\u6210\\u5b8c\\u6210\\u3002\\u8fd9\\u5c06\\u8fd4\\u56de\\u4e00\\u4e2a\\u5e26\\u6709\\u9644\\u52a0\\u6d88\\u606f\\u53c2\\u6570\\u7684 LLMResult\\uff1a\\n\\u60a8\\u8fd8\\u53ef\\u4ee5\\u4ece LLMResult \\u4e2d\\u63d0\\u53d6 tokens \\u4f7f\\u7528\\u7b49\\u4fe1\\u606f\\uff1a\\n\\u5bf9\\u4e8e\\u804a\\u5929\\u6a21\\u578b\\uff0c\\u60a8\\u8fd8\\u53ef\\u4ee5\\u901a\\u8fc7\\u4f7f\\u7528 LangChain \\u5b8c\\u6574\\u6307\\u5357\\uff1a\\u4f7f\\u7528\\u5927\\u8bed\\u8a00\\u6a21\\u578b\\u6784\\u5efa\\u5f3a\\u5927\\u7684\\u5e94\\u7528\\u7a0b\\u5e8f\\nWhat is LangChain?\\nLangChain\\u662f\\u4e00\\u4e2a\\u5f3a\\u5927\\u7684\\u6846\\u67b6\\uff0c\\u65e8\\u5728\\u5e2e\\u52a9\\u5f00\\u53d1\\u4eba\\u5458\\u4f7f\\u7528\\u8bed\\u8a00\\u6a21\\u578b\\u6784\\u5efa\\u7aef\\u5230\\u7aef\\u7684\\u5e94\\u7528\\u7a0b\\u5e8f\\u3002\\u5b83\\u63d0\\u4f9b\\u4e86\\u4e00\\u5957\\u5de5\\u5177\\u3001\\u7ec4\\u4ef6\\u548c\\u63a5\\u53e3\\uff0c\\u53ef\\u7b80\\u5316\\u521b\\u5efa\\u7531\\u5927\\u578b\\u8bed\\u8a00\\u6a21\\u578b (LLM) \\u548c\\u804a\\u5929\\u6a21\\u578b\\u63d0\\u4f9b\\u652f\\u6301\\u7684\\u5e94\\u7528\\u7a0b\\u5e8f\\u7684\\u8fc7\\u7a0b\\u3002LangChain \\u53ef\\u4ee5\\u8f7b\\u677e\\u7ba1\\u7406\\u4e0e\\u8bed\\u8a00\\u6a21\\u578b\\u7684\\u4ea4\\u4e92\\uff0c\\u5c06\\u591a\\u4e2a\\u7ec4\\u4ef6\\u94fe\\u63a5\\u5728\\u4e00\\u8d77\\uff0c\\u5e76\\u96c6\\u6210\\u989d\\u5916\\u7684\\u8d44\\u6e90\\uff0c\\u4f8b\\u5982 API \\u548c\\u6570\\u636e\\u5e93\\u3002\\nLangChain\\u6709\\u5f88\\u591a\\u6838\\u5fc3\\u6982\\u5ff5\\uff1a\\n1. \\u4f5c\\u4e3a\\u4ee3\\u7406\\u7c7b\\u578b\\u521d\\u59cb\\u5316 Agent\\n\\u5728\\u6b64\\u793a\\u4f8b\\u4e2d\\uff0c\\u4ee3\\u7406\\u5c06\\u4ee5\\u4ea4\\u4e92\\u7684\\u65b9\\u5f0f\\u6267\\u884c\\u641c\\u7d22\\u548c\\u8ba1\\u7b97\\u4ee5\\u63d0\\u4f9b\\u6700\\u7ec8\\u7b54\\u6848\\u3002\\n\\u6700\\u540e\\uff0c\\u8ba9\\u6211\\u4eec\\u63a2\\u7d22\\u5c06\\u5185\\u5b58\\u4e0e\\u4f7f\\u7528\\u804a\\u5929\\u6a21\\u578b\\u521d\\u59cb\\u5316\\u7684\\u94fe\\u548c\\u4ee3\\u7406\\u4e00\\u8d77\\u4f7f\\u7528\\u3002\\u8fd9\\u4e0e Memory for LLMs \\u7684\\u4e3b\\u8981\\u533a\\u522b\\u5728\\u4e8e\\u6211\\u4eec\\u53ef\\u4ee5\\u5c06\\u4ee5\\u524d\\u7684\\u6d88\\u606f\\u4fdd\\u7559\\u4e3a\\u5b83\\u4eec\\u81ea\\u5df1\\u552f\\u4e00\\u7684\\u5185\\u5b58\\u5bf9\\u8c61\\uff0c\\u800c\\u4e0d\\u662f\\u5c06\\u5b83\\u4eec\\u538b\\u7f29\\u6210\\u4e00\\u4e2a\\u5b57\\u7b26\\u4e32\\u3002\\n\\u4e0b\\u9762\\u662f\\u4f7f\\u7528 a \\u7684\\u793a\\u4f8bConversationChain\\uff1a\\n\\u5728\\u6b64\\u793a\\u4f8b\\u4e2d\\uff0c\\u6211\\u4eec\\u4f7f\\u7528 aConversationChain\\u6765\\u7ef4\\u62a4\\u8de8\\u4e0e Agents and Toolkits\\nAgent \\u662f\\u5728 LangChain \\u4e2d\\u63a8\\u52a8\\u51b3\\u7b56\\u5236\\u5b9a\\u7684\\u5b9e\\u4f53\\u3002\\u4ed6\\u4eec\\u53ef\\u4ee5\\u8bbf\\u95ee\\u4e00\\u5957\\u5de5\\u5177\\uff0c\\u5e76\\u53ef\\u4ee5\\u6839\\u636e\\u7528\\u6237\\u8f93\\u5165\\u51b3\\u5b9a\\u8c03\\u7528\\u54ea\\u4e2a\\u5de5\\u5177\\u3002Tookits \\u662f\\u4e00\\u7ec4\\u5de5\\u5177\\uff0c\\u5f53\\u5b83\\u4eec\\u4e00\\u8d77\\u4f7f\\u7528\\u65f6\\uff0c\\u53ef\\u4ee5\\u5b8c\\u6210\\u7279\\u5b9a\\u7684\\u4efb\\u52a1\\u3002\\u4ee3\\u7406\\u6267\\u884c\\u5668\\u8d1f\\u8d23\\u4f7f\\u7528\\u9002\\u5f53\\u7684\\u5de5\\u5177\\u8fd0\\u884c\\u4ee3\\u7406\\u3002\\n\\u901a\\u8fc7\\u7406\\u89e3\\u548c\\u5229\\u7528\\u8fd9\\u4e9b\\u6838\\u5fc3\\u6982\\u5ff5\\uff0c\\u60a8\\u53ef\\u4ee5\\u5229\\u7528 LangChain \\u7684\\u5f3a\\u5927\\u529f\\u80fd\\u6765\\u6784\\u5efa\\u9002\\u5e94\\u6027\\u5f3a\\u3001\\u9ad8\\u6548\\u4e14\\u80fd\\u591f\\u5904\\u7406\\u590d\\u6742\\u7528\\u4f8b\\u7684\\u9ad8\\u7ea7\\u8bed\\u8a00\\u6a21\\u578b\\u5e94\\u7528\\u7a0b\\u5e8f\\u3002\\n \\u7ed3\\u8bba\\n\\u603b\\u4e4b\\uff0cLangChain \\u662f\\u4e00\\u4e2a\\u5f3a\\u5927\\u7684\\u6846\\u67b6\\uff0c\\u5b83\\u901a\\u8fc7\\u63d0\\u4f9b\\u6a21\\u5757\\u5316\\u548c\\u7075\\u6d3b\\u7684\\u65b9\\u6cd5\\u7b80\\u5316\\u4e86\\u6784\\u5efa\\u9ad8\\u7ea7\\u8bed\\u8a00\\u6a21\\u578b\\u5e94\\u7528\\u7a0b\\u5e8f\\u7684\\u8fc7\\u7a0b\\u3002\\u901a\\u8fc7\\u4e86\\u89e3\\u7ec4\\u4ef6\\u3001\\u94fe\\u3001\\u63d0\\u793a\\u6a21\\u677f\\u3001\\u8f93\\u51fa\\u89e3\\u6790\\u5668\\u3001\\u7d22\\u5f15\\u3001\\u68c0\\u7d22\\u5668\\u3001\\u804a\\u5929\\u6d88\\u606f\\u5386\\u53f2\\u8bb0\\u5f55\\u548c\\u4ee3\\u7406\\u7b49\\u6838\\u5fc3\\u6982\\u5ff5\\uff0c\\u60a8\\u53ef\\u4ee5\\u521b\\u5efa\\u9002\\u5408\\u60a8\\u7279\\u5b9a\\u9700\\u6c42\\u7684\\u81ea\\u5b9a\\u4e49\\u89e3\\u51b3\\u65b9\\u6848\\u3002LangChain \\u7684\\u9002\\u5e94\\u6027\\u548c\\u6613\\u7528\\u6027\\u4f7f\\u5176\\u6210\\u4e3a\\u5f00\\u53d1\\u4eba\\u5458\\u7684\\u5b9d\\u8d35\\u5de5\\u5177\\uff0c\\u4f7f\\u4ed6\\u4eec\\u80fd\\u591f\\u91ca\\u653e\\u8bed\\u8a00\\u6a21\\u578b\\u7684\\u5168\\u90e8\\u6f5c\\u529b\\uff0c\\u5e76\\u5728\\u5e7f\\u6cdb\\u7684\\u7528\\u4f8b\\u4e2d\\u521b\\u5efa\\u667a\\u80fd\\u7684\\u3001\\u4e0a\\u4e0b\\u6587\\u611f\\u77e5\\u7684\\u5e94\\u7528\\u7a0b\\u5e8f\\u3002\\n\\u6587\\u7ae0\\u88ab\\u4ee5\\u4e0b\\u4e13\\u680f\\u6536\\u5f55\\nAIGC\\n\\u4eba\\u5de5\\u667a\\u80fd\\u7814\\u7a76\"}, {\"url\": \"https://blog.csdn.net/2301_81940605/article/details/138605789\", \"content\": \"\\u4f7f\\u7528LangChain\\uff0c\\u5f00\\u53d1\\u4eba\\u5458\\u53ef\\u4ee5\\u4f7f\\u7528\\u4e00\\u4e2a\\u62bd\\u8c61LLM\\u5e94\\u7528\\u7a0b\\u5e8f\\u7684\\u6838\\u5fc3\\u6784\\u5efa\\u5757\\u7684\\u6846\\u67b6\\u3002\\u63a2\\u7d22LangChain\\u7684\\u80fd\\u529b\\u5e76\\u5c1d\\u8bd5\\u5176\\u5404\\u4e2a\\u7ec4\\u4ef6\\uff0c\\u4f1a\\u53d1\\u73b0\\u53ef\\u80fd\\u6027\\u51e0\\u4e4e\\u65e0\\u9650\\u3002LangChain\\u6846\\u67b6\\u63d0\\u4f9b\\u4e86\\u4e00\\u79cd\\u7075\\u6d3b\\u548c\\u6a21\\u5757\\u5316\\u7684\\u8bed\\u8a00\\u751f\\u6210\\u65b9\\u6cd5\\uff0c\\u5141\\u8bb8\\u521b\\u5efa\\u6839\\u636e\\u7528\\u6237\\u7279\\u5b9a\\u9700\\u8981\\u91cf\\u8eab\\u5b9a\\u5236\\u7684\\u5b9a\\u5236\\u89e3\\u51b3\\u65b9\\u6848\\u3002\"}]\n",
      "Assistant: 关于LangChain框架的信息如下：\n",
      "\n",
      "1. **LangChain框架概述**\n",
      "   - LangChain是一个强大的框架，旨在帮助开发人员使用语言模型（LLM）构建应用程序。它提供了一系列组件和工具，使得创建基于大语言模型的应用程序变得更加简单和灵活。LangChain支持多种功能模块，如聊天模型、代理、链、内存等，开发者可以利用这些模块来构建复杂的应用程序。\n",
      "\n",
      "2. **主要功能和应用**\n",
      "   - LangChain提供多种功能模块，可以用于开发对话系统、问答系统、数据处理、API交互等应用。它能够帮助开发者快速构建出高效且灵活的应用程序，支持多种输入输出方式，并能够与外部API和数据库进行交互。\n",
      "\n",
      "3. **使用示例**\n",
      "   - 开发者可以使用LangChain创建一个对话助手，或者利用其内置的工具和代理来实现复杂的查询和计算。LangChain还支持使用Jupyter Notebook或Python脚本进行开发，开发者可以根据需求调整环境和模块。\n",
      "\n",
      "4. **文档和资源**\n",
      "   - 有关LangChain的详细使用指南和示例，可以参考以下链接：\n",
      "     - [LangChain使用指南](https://zhuanlan.zhihu.com/p/620529542)\n",
      "     - [LangChain框架介绍](https://blog.csdn.net/2301_81940605/article/details/138605789)\n",
      "\n",
      "通过这些资源，您可以深入了解LangChain的使用方法和最佳实践。如果您有特定的使用场景或问题，可以进一步询问以获得更详细的解答。\n"
     ]
    },
    {
     "ename": "KeyboardInterrupt",
     "evalue": "Interrupted by user",
     "output_type": "error",
     "traceback": [
      "\u001B[1;31m---------------------------------------------------------------------------\u001B[0m",
      "\u001B[1;31mKeyboardInterrupt\u001B[0m                         Traceback (most recent call last)",
      "Cell \u001B[1;32mIn[10], line 6\u001B[0m\n\u001B[0;32m      3\u001B[0m \u001B[38;5;66;03m# 进入一个无限循环，用于模拟持续的对话\u001B[39;00m\n\u001B[0;32m      4\u001B[0m \u001B[38;5;28;01mwhile\u001B[39;00m \u001B[38;5;28;01mTrue\u001B[39;00m:\n\u001B[0;32m      5\u001B[0m     \u001B[38;5;66;03m# 获取用户输入\u001B[39;00m\n\u001B[1;32m----> 6\u001B[0m     user_input \u001B[38;5;241m=\u001B[39m \u001B[38;5;28;43minput\u001B[39;49m\u001B[43m(\u001B[49m\u001B[38;5;124;43m\"\u001B[39;49m\u001B[38;5;124;43mUser: \u001B[39;49m\u001B[38;5;124;43m\"\u001B[39;49m\u001B[43m)\u001B[49m\n\u001B[0;32m      8\u001B[0m     \u001B[38;5;66;03m# 如果用户输入 \"quit\"、\"exit\" 或 \"q\"，则退出循环，结束对话\u001B[39;00m\n\u001B[0;32m      9\u001B[0m     \u001B[38;5;28;01mif\u001B[39;00m user_input\u001B[38;5;241m.\u001B[39mlower() \u001B[38;5;129;01min\u001B[39;00m [\u001B[38;5;124m\"\u001B[39m\u001B[38;5;124mquit\u001B[39m\u001B[38;5;124m\"\u001B[39m, \u001B[38;5;124m\"\u001B[39m\u001B[38;5;124mexit\u001B[39m\u001B[38;5;124m\"\u001B[39m, \u001B[38;5;124m\"\u001B[39m\u001B[38;5;124mq\u001B[39m\u001B[38;5;124m\"\u001B[39m]:\n",
      "File \u001B[1;32m~\\AppData\\Roaming\\Python\\Python310\\site-packages\\ipykernel\\kernelbase.py:1282\u001B[0m, in \u001B[0;36mKernel.raw_input\u001B[1;34m(self, prompt)\u001B[0m\n\u001B[0;32m   1280\u001B[0m     msg \u001B[38;5;241m=\u001B[39m \u001B[38;5;124m\"\u001B[39m\u001B[38;5;124mraw_input was called, but this frontend does not support input requests.\u001B[39m\u001B[38;5;124m\"\u001B[39m\n\u001B[0;32m   1281\u001B[0m     \u001B[38;5;28;01mraise\u001B[39;00m StdinNotImplementedError(msg)\n\u001B[1;32m-> 1282\u001B[0m \u001B[38;5;28;01mreturn\u001B[39;00m \u001B[38;5;28;43mself\u001B[39;49m\u001B[38;5;241;43m.\u001B[39;49m\u001B[43m_input_request\u001B[49m\u001B[43m(\u001B[49m\n\u001B[0;32m   1283\u001B[0m \u001B[43m    \u001B[49m\u001B[38;5;28;43mstr\u001B[39;49m\u001B[43m(\u001B[49m\u001B[43mprompt\u001B[49m\u001B[43m)\u001B[49m\u001B[43m,\u001B[49m\n\u001B[0;32m   1284\u001B[0m \u001B[43m    \u001B[49m\u001B[38;5;28;43mself\u001B[39;49m\u001B[38;5;241;43m.\u001B[39;49m\u001B[43m_parent_ident\u001B[49m\u001B[43m[\u001B[49m\u001B[38;5;124;43m\"\u001B[39;49m\u001B[38;5;124;43mshell\u001B[39;49m\u001B[38;5;124;43m\"\u001B[39;49m\u001B[43m]\u001B[49m\u001B[43m,\u001B[49m\n\u001B[0;32m   1285\u001B[0m \u001B[43m    \u001B[49m\u001B[38;5;28;43mself\u001B[39;49m\u001B[38;5;241;43m.\u001B[39;49m\u001B[43mget_parent\u001B[49m\u001B[43m(\u001B[49m\u001B[38;5;124;43m\"\u001B[39;49m\u001B[38;5;124;43mshell\u001B[39;49m\u001B[38;5;124;43m\"\u001B[39;49m\u001B[43m)\u001B[49m\u001B[43m,\u001B[49m\n\u001B[0;32m   1286\u001B[0m \u001B[43m    \u001B[49m\u001B[43mpassword\u001B[49m\u001B[38;5;241;43m=\u001B[39;49m\u001B[38;5;28;43;01mFalse\u001B[39;49;00m\u001B[43m,\u001B[49m\n\u001B[0;32m   1287\u001B[0m \u001B[43m\u001B[49m\u001B[43m)\u001B[49m\n",
      "File \u001B[1;32m~\\AppData\\Roaming\\Python\\Python310\\site-packages\\ipykernel\\kernelbase.py:1325\u001B[0m, in \u001B[0;36mKernel._input_request\u001B[1;34m(self, prompt, ident, parent, password)\u001B[0m\n\u001B[0;32m   1322\u001B[0m \u001B[38;5;28;01mexcept\u001B[39;00m \u001B[38;5;167;01mKeyboardInterrupt\u001B[39;00m:\n\u001B[0;32m   1323\u001B[0m     \u001B[38;5;66;03m# re-raise KeyboardInterrupt, to truncate traceback\u001B[39;00m\n\u001B[0;32m   1324\u001B[0m     msg \u001B[38;5;241m=\u001B[39m \u001B[38;5;124m\"\u001B[39m\u001B[38;5;124mInterrupted by user\u001B[39m\u001B[38;5;124m\"\u001B[39m\n\u001B[1;32m-> 1325\u001B[0m     \u001B[38;5;28;01mraise\u001B[39;00m \u001B[38;5;167;01mKeyboardInterrupt\u001B[39;00m(msg) \u001B[38;5;28;01mfrom\u001B[39;00m \u001B[38;5;28;01mNone\u001B[39;00m\n\u001B[0;32m   1326\u001B[0m \u001B[38;5;28;01mexcept\u001B[39;00m \u001B[38;5;167;01mException\u001B[39;00m:\n\u001B[0;32m   1327\u001B[0m     \u001B[38;5;28mself\u001B[39m\u001B[38;5;241m.\u001B[39mlog\u001B[38;5;241m.\u001B[39mwarning(\u001B[38;5;124m\"\u001B[39m\u001B[38;5;124mInvalid Message:\u001B[39m\u001B[38;5;124m\"\u001B[39m, exc_info\u001B[38;5;241m=\u001B[39m\u001B[38;5;28;01mTrue\u001B[39;00m)\n",
      "\u001B[1;31mKeyboardInterrupt\u001B[0m: Interrupted by user"
     ]
    }
   ],
   "execution_count": 10
  },
  {
   "metadata": {},
   "cell_type": "code",
   "outputs": [],
   "execution_count": null,
   "source": "",
   "id": "215f3939e26b9426"
  }
 ],
 "metadata": {
  "kernelspec": {
   "display_name": "Python 3",
   "language": "python",
   "name": "python3"
  },
  "language_info": {
   "codemirror_mode": {
    "name": "ipython",
    "version": 2
   },
   "file_extension": ".py",
   "mimetype": "text/x-python",
   "name": "python",
   "nbconvert_exporter": "python",
   "pygments_lexer": "ipython2",
   "version": "2.7.6"
  }
 },
 "nbformat": 4,
 "nbformat_minor": 5
}
